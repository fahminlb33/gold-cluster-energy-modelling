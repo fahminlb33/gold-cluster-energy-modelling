{
 "cells": [
  {
   "cell_type": "code",
   "execution_count": 2,
   "id": "4c43fa3a",
   "metadata": {},
   "outputs": [],
   "source": [
    "import glob\n",
    "import warnings\n",
    "\n",
    "import numpy as np\n",
    "import pandas as pd\n",
    "import seaborn as sns\n",
    "import matplotlib.pyplot as plt\n",
    "\n",
    "from ase.io import read as read_xyz\n",
    "from dscribe.descriptors import SOAP\n",
    "from astartes import train_test_split\n",
    "\n",
    "from xgboost import XGBRegressor\n",
    "from lightgbm import LGBMRegressor\n",
    "from sklearn.ensemble import StackingRegressor, ExtraTreesRegressor\n",
    "from sklearn.linear_model import LinearRegression, RidgeCV\n",
    "\n",
    "from tqdm import tqdm\n",
    "from paretoset import paretoset\n",
    "from sklearn.pipeline import Pipeline\n",
    "from sklearn.decomposition import PCA\n",
    "from sklearn.preprocessing import StandardScaler\n",
    "from sklearn.model_selection import ParameterGrid, KFold\n",
    "from sklearn.metrics import mean_absolute_error, root_mean_squared_error, r2_score"
   ]
  },
  {
   "cell_type": "code",
   "execution_count": 3,
   "id": "1c62caea",
   "metadata": {},
   "outputs": [],
   "source": [
    "RANDOM_SEED = 20"
   ]
  },
  {
   "cell_type": "markdown",
   "id": "bf8cba84",
   "metadata": {},
   "source": [
    "## Data Loading"
   ]
  },
  {
   "cell_type": "code",
   "execution_count": 10,
   "id": "8227416e",
   "metadata": {},
   "outputs": [
    {
     "data": {
      "text/plain": [
       "999"
      ]
     },
     "execution_count": 10,
     "metadata": {},
     "output_type": "execute_result"
    }
   ],
   "source": [
    "structures = [read_xyz(x) for x in glob.glob(\"../data/raw/*.xyz\")]\n",
    "energy_levels = np.array([float(list(x.info.keys())[0]) for x in structures])\n",
    "\n",
    "len(structures)"
   ]
  },
  {
   "cell_type": "markdown",
   "id": "f3c8019c",
   "metadata": {},
   "source": [
    "## Cross Validation"
   ]
  },
  {
   "cell_type": "code",
   "execution_count": 11,
   "id": "3486db8b",
   "metadata": {},
   "outputs": [],
   "source": [
    "def get_model(model_name: str, pca_components: int):\n",
    "    if model_name == \"extra-trees\":\n",
    "        return Pipeline(steps=[\n",
    "            (\"scale\", StandardScaler()),\n",
    "            (\"pca\", PCA(n_components=pca_components)),\n",
    "            (\"reg\", ExtraTreesRegressor(max_depth=10, random_state=RANDOM_SEED))\n",
    "        ])\n",
    "    elif model_name == \"xgboost\":\n",
    "        return Pipeline(steps=[\n",
    "            (\"scale\", StandardScaler()),\n",
    "            (\"pca\", PCA(n_components=pca_components)),\n",
    "            (\"reg\", XGBRegressor(max_depth=10, random_state=RANDOM_SEED))\n",
    "        ])\n",
    "    elif model_name == \"lightgbm\":\n",
    "        return Pipeline(steps=[\n",
    "            (\"scale\", StandardScaler()),\n",
    "            (\"pca\", PCA(n_components=pca_components)),\n",
    "            (\"reg\", LGBMRegressor(verbose=-1, max_depth=10, random_state=RANDOM_SEED))\n",
    "        ])\n",
    "    elif model_name == \"stacking\":\n",
    "        return Pipeline(steps=[\n",
    "            (\"scale\", StandardScaler()),\n",
    "            (\"pca\", PCA(n_components=pca_components)),\n",
    "            (\"reg\", StackingRegressor(\n",
    "                # final_estimator=LinearRegression(),\n",
    "                estimators=[\n",
    "                    (\"etr\", ExtraTreesRegressor(max_depth=10, random_state=RANDOM_SEED)), \n",
    "                    (\"xgb\", XGBRegressor(max_depth=10, random_state=RANDOM_SEED)), \n",
    "                    (\"lgb\", LGBMRegressor(verbose=-1, max_depth=10, random_state=RANDOM_SEED))\n",
    "                ]\n",
    "            ))\n",
    "        ])\n",
    "    \n",
    "    raise ValueError(\"Unknown model name!\")"
   ]
  },
  {
   "cell_type": "code",
   "execution_count": 12,
   "id": "a7008114",
   "metadata": {},
   "outputs": [
    {
     "data": {
      "text/plain": [
       "100"
      ]
     },
     "execution_count": 12,
     "metadata": {},
     "output_type": "execute_result"
    }
   ],
   "source": [
    "param_space = list(ParameterGrid({\n",
    "    \"n_max\": range(1, 11),\n",
    "    \"l_max\": range(1, 11)\n",
    "}))\n",
    "\n",
    "len(param_space)"
   ]
  },
  {
   "cell_type": "code",
   "execution_count": 14,
   "id": "3da20d6c",
   "metadata": {},
   "outputs": [
    {
     "name": "stderr",
     "output_type": "stream",
     "text": [
      "Fold: 5 - Model: stacking: 100%|██████████| 100/100 [21:14<00:00, 12.75s/it]  \n"
     ]
    }
   ],
   "source": [
    "results = []\n",
    "\n",
    "with warnings.catch_warnings(action=\"ignore\"):\n",
    "    for param in (pbar := tqdm(param_space)):\n",
    "        soap = SOAP(\n",
    "            r_cut=5,\n",
    "            n_max=param[\"n_max\"],\n",
    "            l_max=param[\"l_max\"],\n",
    "            species=[\"Au\"],\n",
    "            periodic=False,\n",
    "            average=\"outer\",\n",
    "            sparse=False\n",
    "        )\n",
    "\n",
    "        X = soap.create(structures, n_jobs=2)\n",
    "        y = energy_levels.copy()\n",
    "\n",
    "        # ignore test set\n",
    "        X_train, _, y_train, _ = train_test_split(X, y, sampler=\"random\", train_size=0.80, random_state=21)\n",
    "\n",
    "        pca = PCA(n_components=min(X.shape[1], 15)).fit(StandardScaler().fit_transform(X))\n",
    "        num_pc = np.argmax(np.cumsum(pca.explained_variance_ratio_) >= 0.95) + 1\n",
    "\n",
    "        cv = KFold(n_splits=5, shuffle=True, random_state=21)\n",
    "        for i, (train_index, val_index) in enumerate(cv.split(X, y)):\n",
    "            X_train, y_train = X[train_index], y[train_index]\n",
    "            X_val, y_val = X[val_index], y[val_index]\n",
    "\n",
    "            for model_name in [\"extra-trees\", \"xgboost\", \"lightgbm\", \"stacking\"]:\n",
    "                pbar.set_description_str(f\"Fold: {i+1} - Model: {model_name}\")\n",
    "\n",
    "                model = get_model(model_name, num_pc)\n",
    "                model.fit(X_train, y_train)\n",
    "\n",
    "                y_preds = model.predict(X_val)\n",
    "                results.append({\n",
    "                    \"fold\": i,\n",
    "                    \"model_name\": model_name,\n",
    "                    **param,\n",
    "                    \"num_desc\": X.shape[1],\n",
    "                    \"pc\": num_pc,\n",
    "                    \"r2\": r2_score(y_val, y_preds),\n",
    "                    \"mae\": mean_absolute_error(y_val, y_preds),\n",
    "                    \"rmse\": root_mean_squared_error(y_val, y_preds),\n",
    "                })"
   ]
  },
  {
   "cell_type": "markdown",
   "id": "8b7c5a1b",
   "metadata": {},
   "source": [
    "## Analysis"
   ]
  },
  {
   "cell_type": "code",
   "execution_count": 15,
   "id": "67053615",
   "metadata": {},
   "outputs": [
    {
     "data": {
      "text/html": [
       "<div>\n",
       "<style scoped>\n",
       "    .dataframe tbody tr th:only-of-type {\n",
       "        vertical-align: middle;\n",
       "    }\n",
       "\n",
       "    .dataframe tbody tr th {\n",
       "        vertical-align: top;\n",
       "    }\n",
       "\n",
       "    .dataframe thead th {\n",
       "        text-align: right;\n",
       "    }\n",
       "</style>\n",
       "<table border=\"1\" class=\"dataframe\">\n",
       "  <thead>\n",
       "    <tr style=\"text-align: right;\">\n",
       "      <th></th>\n",
       "      <th>fold</th>\n",
       "      <th>model_name</th>\n",
       "      <th>l_max</th>\n",
       "      <th>n_max</th>\n",
       "      <th>num_desc</th>\n",
       "      <th>pc</th>\n",
       "      <th>r2</th>\n",
       "      <th>mae</th>\n",
       "      <th>rmse</th>\n",
       "    </tr>\n",
       "  </thead>\n",
       "  <tbody>\n",
       "    <tr>\n",
       "      <th>0</th>\n",
       "      <td>0</td>\n",
       "      <td>extra-trees</td>\n",
       "      <td>1</td>\n",
       "      <td>1</td>\n",
       "      <td>2</td>\n",
       "      <td>1</td>\n",
       "      <td>0.617072</td>\n",
       "      <td>1.321873</td>\n",
       "      <td>1.774705</td>\n",
       "    </tr>\n",
       "    <tr>\n",
       "      <th>1</th>\n",
       "      <td>0</td>\n",
       "      <td>xgboost</td>\n",
       "      <td>1</td>\n",
       "      <td>1</td>\n",
       "      <td>2</td>\n",
       "      <td>1</td>\n",
       "      <td>0.582384</td>\n",
       "      <td>1.366470</td>\n",
       "      <td>1.853344</td>\n",
       "    </tr>\n",
       "    <tr>\n",
       "      <th>2</th>\n",
       "      <td>0</td>\n",
       "      <td>lightgbm</td>\n",
       "      <td>1</td>\n",
       "      <td>1</td>\n",
       "      <td>2</td>\n",
       "      <td>1</td>\n",
       "      <td>0.643561</td>\n",
       "      <td>1.316778</td>\n",
       "      <td>1.712222</td>\n",
       "    </tr>\n",
       "    <tr>\n",
       "      <th>3</th>\n",
       "      <td>0</td>\n",
       "      <td>stacking</td>\n",
       "      <td>1</td>\n",
       "      <td>1</td>\n",
       "      <td>2</td>\n",
       "      <td>1</td>\n",
       "      <td>0.628309</td>\n",
       "      <td>1.308048</td>\n",
       "      <td>1.748472</td>\n",
       "    </tr>\n",
       "    <tr>\n",
       "      <th>4</th>\n",
       "      <td>1</td>\n",
       "      <td>extra-trees</td>\n",
       "      <td>1</td>\n",
       "      <td>1</td>\n",
       "      <td>2</td>\n",
       "      <td>1</td>\n",
       "      <td>0.621344</td>\n",
       "      <td>1.309640</td>\n",
       "      <td>1.728597</td>\n",
       "    </tr>\n",
       "  </tbody>\n",
       "</table>\n",
       "</div>"
      ],
      "text/plain": [
       "   fold   model_name  l_max  n_max  num_desc  pc        r2       mae      rmse\n",
       "0     0  extra-trees      1      1         2   1  0.617072  1.321873  1.774705\n",
       "1     0      xgboost      1      1         2   1  0.582384  1.366470  1.853344\n",
       "2     0     lightgbm      1      1         2   1  0.643561  1.316778  1.712222\n",
       "3     0     stacking      1      1         2   1  0.628309  1.308048  1.748472\n",
       "4     1  extra-trees      1      1         2   1  0.621344  1.309640  1.728597"
      ]
     },
     "execution_count": 15,
     "metadata": {},
     "output_type": "execute_result"
    }
   ],
   "source": [
    "df_results = pd.DataFrame(results)\n",
    "df_results.to_csv(\"../data/soap-grid_search.csv\", index=None)\n",
    "\n",
    "df_results.head()"
   ]
  },
  {
   "cell_type": "code",
   "execution_count": 16,
   "id": "db2382f2",
   "metadata": {},
   "outputs": [
    {
     "data": {
      "text/html": [
       "<div>\n",
       "<style scoped>\n",
       "    .dataframe tbody tr th:only-of-type {\n",
       "        vertical-align: middle;\n",
       "    }\n",
       "\n",
       "    .dataframe tbody tr th {\n",
       "        vertical-align: top;\n",
       "    }\n",
       "\n",
       "    .dataframe thead th {\n",
       "        text-align: right;\n",
       "    }\n",
       "</style>\n",
       "<table border=\"1\" class=\"dataframe\">\n",
       "  <thead>\n",
       "    <tr style=\"text-align: right;\">\n",
       "      <th></th>\n",
       "      <th>n_max</th>\n",
       "      <th>l_max</th>\n",
       "      <th>mae</th>\n",
       "      <th>rmse</th>\n",
       "      <th>r2</th>\n",
       "    </tr>\n",
       "  </thead>\n",
       "  <tbody>\n",
       "    <tr>\n",
       "      <th>0</th>\n",
       "      <td>1</td>\n",
       "      <td>1</td>\n",
       "      <td>1.250513</td>\n",
       "      <td>1.679013</td>\n",
       "      <td>0.656630</td>\n",
       "    </tr>\n",
       "    <tr>\n",
       "      <th>1</th>\n",
       "      <td>1</td>\n",
       "      <td>2</td>\n",
       "      <td>0.803099</td>\n",
       "      <td>1.179380</td>\n",
       "      <td>0.830710</td>\n",
       "    </tr>\n",
       "    <tr>\n",
       "      <th>2</th>\n",
       "      <td>1</td>\n",
       "      <td>3</td>\n",
       "      <td>0.634746</td>\n",
       "      <td>1.001483</td>\n",
       "      <td>0.877273</td>\n",
       "    </tr>\n",
       "    <tr>\n",
       "      <th>3</th>\n",
       "      <td>1</td>\n",
       "      <td>4</td>\n",
       "      <td>0.524671</td>\n",
       "      <td>0.770752</td>\n",
       "      <td>0.927463</td>\n",
       "    </tr>\n",
       "    <tr>\n",
       "      <th>4</th>\n",
       "      <td>1</td>\n",
       "      <td>5</td>\n",
       "      <td>0.529263</td>\n",
       "      <td>0.778760</td>\n",
       "      <td>0.925904</td>\n",
       "    </tr>\n",
       "  </tbody>\n",
       "</table>\n",
       "</div>"
      ],
      "text/plain": [
       "   n_max  l_max       mae      rmse        r2\n",
       "0      1      1  1.250513  1.679013  0.656630\n",
       "1      1      2  0.803099  1.179380  0.830710\n",
       "2      1      3  0.634746  1.001483  0.877273\n",
       "3      1      4  0.524671  0.770752  0.927463\n",
       "4      1      5  0.529263  0.778760  0.925904"
      ]
     },
     "execution_count": 16,
     "metadata": {},
     "output_type": "execute_result"
    }
   ],
   "source": [
    "df_summary = df_results[[\"model_name\", \"n_max\", \"l_max\", \"mae\", \"rmse\", \"r2\"]] \\\n",
    "    .groupby([\"model_name\", \"n_max\", \"l_max\"]) \\\n",
    "    .mean() \\\n",
    "    .reset_index() \\\n",
    "    .drop(columns=[\"model_name\"])\n",
    "\n",
    "df_summary.head()"
   ]
  },
  {
   "cell_type": "code",
   "execution_count": 17,
   "id": "d7e88f57",
   "metadata": {},
   "outputs": [
    {
     "data": {
      "text/html": [
       "<div>\n",
       "<style scoped>\n",
       "    .dataframe tbody tr th:only-of-type {\n",
       "        vertical-align: middle;\n",
       "    }\n",
       "\n",
       "    .dataframe tbody tr th {\n",
       "        vertical-align: top;\n",
       "    }\n",
       "\n",
       "    .dataframe thead th {\n",
       "        text-align: right;\n",
       "    }\n",
       "</style>\n",
       "<table border=\"1\" class=\"dataframe\">\n",
       "  <thead>\n",
       "    <tr style=\"text-align: right;\">\n",
       "      <th></th>\n",
       "      <th>n_max</th>\n",
       "      <th>l_max</th>\n",
       "      <th>mae</th>\n",
       "      <th>rmse</th>\n",
       "      <th>r2</th>\n",
       "    </tr>\n",
       "  </thead>\n",
       "  <tbody>\n",
       "    <tr>\n",
       "      <th>206</th>\n",
       "      <td>1</td>\n",
       "      <td>7</td>\n",
       "      <td>0.4459</td>\n",
       "      <td>0.6575</td>\n",
       "      <td>0.9470</td>\n",
       "    </tr>\n",
       "    <tr>\n",
       "      <th>208</th>\n",
       "      <td>1</td>\n",
       "      <td>9</td>\n",
       "      <td>0.4401</td>\n",
       "      <td>0.6614</td>\n",
       "      <td>0.9460</td>\n",
       "    </tr>\n",
       "    <tr>\n",
       "      <th>203</th>\n",
       "      <td>1</td>\n",
       "      <td>4</td>\n",
       "      <td>0.5314</td>\n",
       "      <td>0.7630</td>\n",
       "      <td>0.9289</td>\n",
       "    </tr>\n",
       "    <tr>\n",
       "      <th>204</th>\n",
       "      <td>1</td>\n",
       "      <td>5</td>\n",
       "      <td>0.5254</td>\n",
       "      <td>0.7672</td>\n",
       "      <td>0.9280</td>\n",
       "    </tr>\n",
       "    <tr>\n",
       "      <th>3</th>\n",
       "      <td>1</td>\n",
       "      <td>4</td>\n",
       "      <td>0.5247</td>\n",
       "      <td>0.7708</td>\n",
       "      <td>0.9275</td>\n",
       "    </tr>\n",
       "  </tbody>\n",
       "</table>\n",
       "</div>"
      ],
      "text/plain": [
       "     n_max  l_max     mae    rmse      r2\n",
       "206      1      7  0.4459  0.6575  0.9470\n",
       "208      1      9  0.4401  0.6614  0.9460\n",
       "203      1      4  0.5314  0.7630  0.9289\n",
       "204      1      5  0.5254  0.7672  0.9280\n",
       "3        1      4  0.5247  0.7708  0.9275"
      ]
     },
     "execution_count": 17,
     "metadata": {},
     "output_type": "execute_result"
    }
   ],
   "source": [
    "mask = paretoset(df_summary, sense=[\"min\", \"min\", \"min\", \"min\", \"max\"])\n",
    "\n",
    "dd = df_summary[mask].sort_values(\"r2\", ascending=False).round(4)\n",
    "dd.to_csv(\"../data/soap-skyline.csv\", index=None)\n",
    "\n",
    "dd.head()"
   ]
  },
  {
   "cell_type": "code",
   "execution_count": 20,
   "id": "684a4563",
   "metadata": {},
   "outputs": [
    {
     "data": {
      "image/png": "[encoded data removed]",
      "text/plain": [
       "<Figure size 640x480 with 1 Axes>"
      ]
     },
     "metadata": {},
     "output_type": "display_data"
    }
   ],
   "source": [
    "dd = df_results[(df_results[\"l_max\"] == 7) & (df_results[\"n_max\"] == 1)]\n",
    "\n",
    "sns.lineplot(dd, x=\"fold\", y=\"r2\", hue=\"model_name\", marker=\"o\")\n",
    "\n",
    "plt.show()"
   ]
  },
  {
   "cell_type": "code",
   "execution_count": null,
   "id": "39bb7ff0",
   "metadata": {},
   "outputs": [],
   "source": []
  }
 ],
 "metadata": {
  "kernelspec": {
   "display_name": "ieee-cyberc-2025",
   "language": "python",
   "name": "python3"
  },
  "language_info": {
   "codemirror_mode": {
    "name": "ipython",
    "version": 3
   },
   "file_extension": ".py",
   "mimetype": "text/x-python",
   "name": "python",
   "nbconvert_exporter": "python",
   "pygments_lexer": "ipython3",
   "version": "3.11.13"
  }
 },
 "nbformat": 4,
 "nbformat_minor": 5
}
