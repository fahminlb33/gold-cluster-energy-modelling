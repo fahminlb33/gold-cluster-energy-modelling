{
 "cells": [
  {
   "cell_type": "code",
   "execution_count": 1,
   "id": "4c43fa3a",
   "metadata": {},
   "outputs": [],
   "source": [
    "import glob\n",
    "import warnings\n",
    "\n",
    "import scipy as sp\n",
    "import numpy as np\n",
    "import pandas as pd\n",
    "import seaborn as sns\n",
    "import matplotlib.pyplot as plt\n",
    "\n",
    "from ase.io import read as read_xyz\n",
    "from dscribe.descriptors import SOAP\n",
    "from astartes import train_test_split\n",
    "\n",
    "from xgboost import XGBRegressor\n",
    "from lightgbm import LGBMRegressor\n",
    "from sklearn.ensemble import StackingRegressor, ExtraTreesRegressor\n",
    "from sklearn.linear_model import LinearRegression, RidgeCV\n",
    "\n",
    "from sklearn.pipeline import Pipeline\n",
    "from sklearn.decomposition import PCA\n",
    "from sklearn.preprocessing import StandardScaler\n",
    "from sklearn.model_selection import KFold\n",
    "from sklearn.metrics import mean_absolute_error, root_mean_squared_error, r2_score"
   ]
  },
  {
   "cell_type": "markdown",
   "id": "bf8cba84",
   "metadata": {},
   "source": [
    "## Data Loading"
   ]
  },
  {
   "cell_type": "code",
   "execution_count": 2,
   "id": "8227416e",
   "metadata": {},
   "outputs": [
    {
     "data": {
      "text/plain": [
       "999"
      ]
     },
     "execution_count": 2,
     "metadata": {},
     "output_type": "execute_result"
    }
   ],
   "source": [
    "structures = [read_xyz(x) for x in glob.glob(\"../data/raw/*.xyz\")]\n",
    "energy_levels = np.array([float(list(x.info.keys())[0]) for x in structures])\n",
    "\n",
    "len(structures)"
   ]
  },
  {
   "cell_type": "code",
   "execution_count": null,
   "id": "f29481c8",
   "metadata": {},
   "outputs": [
    {
     "data": {
      "text/plain": [
       "<dscribe.descriptors.soap.SOAP at 0x7f32ff6b02d0>"
      ]
     },
     "execution_count": 3,
     "metadata": {},
     "output_type": "execute_result"
    }
   ],
   "source": [
    "pca_components = 5\n",
    "soap = SOAP(\n",
    "    r_cut=5,\n",
    "    n_max=1,\n",
    "    l_max=7,\n",
    "    species=[\"Au\"],\n",
    "    periodic=False,\n",
    "    average=\"outer\",\n",
    "    sparse=False\n",
    ")\n",
    "\n",
    "soap"
   ]
  },
  {
   "cell_type": "code",
   "execution_count": 4,
   "id": "ee4d6cbf",
   "metadata": {},
   "outputs": [
    {
     "data": {
      "text/plain": [
       "((999, 8), (999,))"
      ]
     },
     "execution_count": 4,
     "metadata": {},
     "output_type": "execute_result"
    }
   ],
   "source": [
    "X = soap.create(structures, n_jobs=2) #.reshape(999, -1)\n",
    "y = energy_levels.copy()\n",
    "\n",
    "X.shape, y.shape"
   ]
  },
  {
   "cell_type": "code",
   "execution_count": 5,
   "id": "cba037af",
   "metadata": {},
   "outputs": [
    {
     "data": {
      "text/plain": [
       "((649, 8), (350, 8))"
      ]
     },
     "execution_count": 5,
     "metadata": {},
     "output_type": "execute_result"
    }
   ],
   "source": [
    "# random, kennard_stone\n",
    "X_train, X_test, y_train, y_test = train_test_split(X, y, sampler=\"random\", train_size=0.65, random_state=22)\n",
    "\n",
    "# kmeans\n",
    "# X_train, X_test, y_train, y_test, _, _ = train_test_split(X, y, sampler=\"kmeans\", train_size=0.65, random_state=21)\n",
    "\n",
    "X_train.shape, X_test.shape"
   ]
  },
  {
   "cell_type": "markdown",
   "id": "f3c8019c",
   "metadata": {},
   "source": [
    "## Cross Validation"
   ]
  },
  {
   "cell_type": "code",
   "execution_count": null,
   "id": "3486db8b",
   "metadata": {},
   "outputs": [],
   "source": [
    "def get_model(model_name):\n",
    "    if model_name == \"extra-trees\":\n",
    "        return Pipeline(steps=[\n",
    "            (\"scale\", StandardScaler()),\n",
    "            (\"pca\", PCA(n_components=pca_components)),\n",
    "            (\"reg\", ExtraTreesRegressor())\n",
    "        ])\n",
    "    elif model_name == \"xgboost\":\n",
    "        return Pipeline(steps=[\n",
    "            (\"scale\", StandardScaler()),\n",
    "            (\"pca\", PCA(n_components=pca_components)),\n",
    "            (\"reg\", XGBRegressor())\n",
    "        ])\n",
    "    elif model_name == \"lightgbm\":\n",
    "        return Pipeline(steps=[\n",
    "            (\"scale\", StandardScaler()),\n",
    "            (\"pca\", PCA(n_components=pca_components)),\n",
    "            (\"reg\", LGBMRegressor(verbose=-1))\n",
    "        ])\n",
    "    elif model_name == \"stacking\":\n",
    "        return Pipeline(steps=[\n",
    "            (\"scale\", StandardScaler()),\n",
    "            (\"pca\", PCA(n_components=pca_components)),\n",
    "            (\"reg\", StackingRegressor(\n",
    "                final_estimator=LinearRegression(),\n",
    "                estimators=[\n",
    "                    (\"etr\", ExtraTreesRegressor()), \n",
    "                    (\"xgb\", XGBRegressor()), \n",
    "                    (\"lgb\", LGBMRegressor(verbose=-1))\n",
    "                ]\n",
    "            ))\n",
    "        ])\n",
    "    \n",
    "    raise ValueError(\"Unknown model name!\")"
   ]
  },
  {
   "cell_type": "code",
   "execution_count": 20,
   "id": "3da20d6c",
   "metadata": {},
   "outputs": [
    {
     "name": "stdout",
     "output_type": "stream",
     "text": [
      "Fold 1...extra-trees..xgboost..lightgbm..stacking..\n",
      "Fold 2...extra-trees..xgboost..lightgbm..stacking..\n",
      "Fold 3...extra-trees..xgboost..lightgbm..stacking..\n",
      "Fold 4...extra-trees..xgboost..lightgbm..stacking..\n",
      "Fold 5...extra-trees..xgboost..lightgbm..stacking..\n"
     ]
    }
   ],
   "source": [
    "results = []\n",
    "\n",
    "with warnings.catch_warnings(action=\"ignore\"):\n",
    "    cv = KFold(n_splits=5, shuffle=True, random_state=42)\n",
    "    for i, (train_index, val_index) in enumerate(cv.split(X, y)):\n",
    "        X_train, y_train = X[train_index], y[train_index]\n",
    "        X_val, y_val = X[val_index], y[val_index]\n",
    "\n",
    "        print(f\"Fold {i+1}...\", end=\"\")\n",
    "\n",
    "        for model_name in [\"extra-trees\", \"xgboost\", \"lightgbm\", \"stacking\"]:\n",
    "            print(f\"{model_name}..\", end=\"\")\n",
    "\n",
    "            model = get_model(model_name)\n",
    "            model.fit(X_train, y_train)\n",
    "\n",
    "            y_preds = model.predict(X_val)\n",
    "            results.append({\n",
    "                \"fold\": i,\n",
    "                \"model_name\": model_name,\n",
    "                \"r2\": r2_score(y_val, y_preds),\n",
    "                \"mae\": mean_absolute_error(y_val, y_preds),\n",
    "                \"rmse\": root_mean_squared_error(y_val, y_preds),\n",
    "            })\n",
    "\n",
    "        print(\"\")"
   ]
  },
  {
   "cell_type": "code",
   "execution_count": 21,
   "id": "67053615",
   "metadata": {},
   "outputs": [
    {
     "data": {
      "application/vnd.microsoft.datawrangler.viewer.v0+json": {
       "columns": [
        {
         "name": "model_name",
         "rawType": "object",
         "type": "string"
        },
        {
         "name": "('mean', 'mae')",
         "rawType": "float64",
         "type": "float"
        },
        {
         "name": "('mean', 'r2')",
         "rawType": "float64",
         "type": "float"
        },
        {
         "name": "('mean', 'rmse')",
         "rawType": "float64",
         "type": "float"
        },
        {
         "name": "('std', 'mae')",
         "rawType": "float64",
         "type": "float"
        },
        {
         "name": "('std', 'r2')",
         "rawType": "float64",
         "type": "float"
        },
        {
         "name": "('std', 'rmse')",
         "rawType": "float64",
         "type": "float"
        }
       ],
       "ref": "c24264ac-8556-4599-8cec-340d6b723a2d",
       "rows": [
        [
         "stacking",
         "0.43843821087271173",
         "0.9351987238004205",
         "0.7267888490749843",
         "0.023319616282164116",
         "0.011480117289870709",
         "0.07388054102725894"
        ],
        [
         "extra-trees",
         "0.4316074545844645",
         "0.9305529658600491",
         "0.7521154800523316",
         "0.02129002230500732",
         "0.010237115118755892",
         "0.05298676415582939"
        ],
        [
         "xgboost",
         "0.4639976152190243",
         "0.9260789808578644",
         "0.776265798581848",
         "0.03786857093030419",
         "0.015145576261060651",
         "0.09953920512242163"
        ],
        [
         "lightgbm",
         "0.48443701066976147",
         "0.9243662526449488",
         "0.783945668255224",
         "0.026559971880865153",
         "0.021505442441188623",
         "0.13111880994022085"
        ]
       ],
       "shape": {
        "columns": 6,
        "rows": 4
       }
      },
      "text/html": [
       "<div>\n",
       "<style scoped>\n",
       "    .dataframe tbody tr th:only-of-type {\n",
       "        vertical-align: middle;\n",
       "    }\n",
       "\n",
       "    .dataframe tbody tr th {\n",
       "        vertical-align: top;\n",
       "    }\n",
       "\n",
       "    .dataframe thead tr th {\n",
       "        text-align: left;\n",
       "    }\n",
       "\n",
       "    .dataframe thead tr:last-of-type th {\n",
       "        text-align: right;\n",
       "    }\n",
       "</style>\n",
       "<table border=\"1\" class=\"dataframe\">\n",
       "  <thead>\n",
       "    <tr>\n",
       "      <th></th>\n",
       "      <th colspan=\"3\" halign=\"left\">mean</th>\n",
       "      <th colspan=\"3\" halign=\"left\">std</th>\n",
       "    </tr>\n",
       "    <tr>\n",
       "      <th></th>\n",
       "      <th>mae</th>\n",
       "      <th>r2</th>\n",
       "      <th>rmse</th>\n",
       "      <th>mae</th>\n",
       "      <th>r2</th>\n",
       "      <th>rmse</th>\n",
       "    </tr>\n",
       "    <tr>\n",
       "      <th>model_name</th>\n",
       "      <th></th>\n",
       "      <th></th>\n",
       "      <th></th>\n",
       "      <th></th>\n",
       "      <th></th>\n",
       "      <th></th>\n",
       "    </tr>\n",
       "  </thead>\n",
       "  <tbody>\n",
       "    <tr>\n",
       "      <th>stacking</th>\n",
       "      <td>0.438438</td>\n",
       "      <td>0.935199</td>\n",
       "      <td>0.726789</td>\n",
       "      <td>0.023320</td>\n",
       "      <td>0.011480</td>\n",
       "      <td>0.073881</td>\n",
       "    </tr>\n",
       "    <tr>\n",
       "      <th>extra-trees</th>\n",
       "      <td>0.431607</td>\n",
       "      <td>0.930553</td>\n",
       "      <td>0.752115</td>\n",
       "      <td>0.021290</td>\n",
       "      <td>0.010237</td>\n",
       "      <td>0.052987</td>\n",
       "    </tr>\n",
       "    <tr>\n",
       "      <th>xgboost</th>\n",
       "      <td>0.463998</td>\n",
       "      <td>0.926079</td>\n",
       "      <td>0.776266</td>\n",
       "      <td>0.037869</td>\n",
       "      <td>0.015146</td>\n",
       "      <td>0.099539</td>\n",
       "    </tr>\n",
       "    <tr>\n",
       "      <th>lightgbm</th>\n",
       "      <td>0.484437</td>\n",
       "      <td>0.924366</td>\n",
       "      <td>0.783946</td>\n",
       "      <td>0.026560</td>\n",
       "      <td>0.021505</td>\n",
       "      <td>0.131119</td>\n",
       "    </tr>\n",
       "  </tbody>\n",
       "</table>\n",
       "</div>"
      ],
      "text/plain": [
       "                 mean                           std                    \n",
       "                  mae        r2      rmse       mae        r2      rmse\n",
       "model_name                                                             \n",
       "stacking     0.438438  0.935199  0.726789  0.023320  0.011480  0.073881\n",
       "extra-trees  0.431607  0.930553  0.752115  0.021290  0.010237  0.052987\n",
       "xgboost      0.463998  0.926079  0.776266  0.037869  0.015146  0.099539\n",
       "lightgbm     0.484437  0.924366  0.783946  0.026560  0.021505  0.131119"
      ]
     },
     "execution_count": 21,
     "metadata": {},
     "output_type": "execute_result"
    }
   ],
   "source": [
    "df_results = pd.DataFrame(results)\n",
    "df_results.pivot_table(index=[\"model_name\"], values=[\"r2\", \"mae\", \"rmse\"], aggfunc=[\"mean\", \"std\"]) \\\n",
    "    .sort_values([(\"mean\", \"r2\")], ascending=False)"
   ]
  },
  {
   "cell_type": "markdown",
   "id": "ba14b6b2",
   "metadata": {},
   "source": [
    "## Final Model"
   ]
  },
  {
   "cell_type": "code",
   "execution_count": 22,
   "id": "b2a1561d",
   "metadata": {},
   "outputs": [
    {
     "name": "stdout",
     "output_type": "stream",
     "text": [
      "MAE 0.08679685270329628\n",
      "RMSE 0.2915866604909752\n",
      "R2 0.9898066244097679\n"
     ]
    }
   ],
   "source": [
    "with warnings.catch_warnings(action=\"ignore\"):\n",
    "    model = get_model(\"extra-trees\")\n",
    "    model.fit(X_train, y_train)\n",
    "    y_preds = model.predict(X_test)\n",
    "\n",
    "    print(\"MAE\", mean_absolute_error(y_test, y_preds))\n",
    "    print(\"RMSE\", root_mean_squared_error(y_test, y_preds))\n",
    "    print(\"R2\", r2_score(y_test, y_preds))"
   ]
  },
  {
   "cell_type": "code",
   "execution_count": 23,
   "id": "f37b8369",
   "metadata": {},
   "outputs": [
    {
     "data": {
      "image/png": "[encoded data removed]",
      "text/plain": [
       "<Figure size 640x480 with 1 Axes>"
      ]
     },
     "metadata": {},
     "output_type": "display_data"
    }
   ],
   "source": [
    "fig, ax = plt.subplots()\n",
    "\n",
    "ax.scatter(y_preds, y_test)\n",
    "\n",
    "plt.show()"
   ]
  },
  {
   "cell_type": "code",
   "execution_count": 24,
   "id": "7c47323f",
   "metadata": {},
   "outputs": [
    {
     "data": {
      "image/png": "[encoded data removed]",
      "text/plain": [
       "<Figure size 800x300 with 2 Axes>"
      ]
     },
     "metadata": {},
     "output_type": "display_data"
    }
   ],
   "source": [
    "fig, (ax1, ax2) = plt.subplots(1, 2, figsize=(8, 3))\n",
    "\n",
    "sns.histplot(y_test, bins=50, kde=True, ax=ax1, label=\"Actual\")\n",
    "sns.histplot(y_preds, bins=50, kde=True, ax=ax1, label=\"Predicted\")\n",
    "ax1.legend()\n",
    "\n",
    "sns.ecdfplot(y_test, ax=ax2, label=\"Actual\")\n",
    "sns.ecdfplot(y_preds, ax=ax2, label=\"Predicted\")\n",
    "ax2.legend()\n",
    "\n",
    "fig.tight_layout()\n",
    "plt.show()"
   ]
  },
  {
   "cell_type": "code",
   "execution_count": 25,
   "id": "f4f1bda4",
   "metadata": {},
   "outputs": [
    {
     "data": {
      "text/plain": [
       "TtestResult(statistic=np.float64(0.03891451768996409), pvalue=np.float64(0.9689696691127768), df=np.float64(698.0))"
      ]
     },
     "execution_count": 25,
     "metadata": {},
     "output_type": "execute_result"
    }
   ],
   "source": [
    "sp.stats.ttest_ind(y_test, y_preds)"
   ]
  },
  {
   "cell_type": "code",
   "execution_count": 26,
   "id": "eaf8fc30",
   "metadata": {},
   "outputs": [
    {
     "name": "stderr",
     "output_type": "stream",
     "text": [
      "/home/fahmi/research/ieee-cyberc-2025/.venv/lib/python3.11/site-packages/scipy/stats/_axis_nan_policy.py:579: RuntimeWarning: ks_2samp: Exact calculation unsuccessful. Switching to method=asymp.\n",
      "  res = hypotest_fun_out(*samples, **kwds)\n"
     ]
    },
    {
     "data": {
      "text/plain": [
       "KstestResult(statistic=np.float64(0.011428571428571429), pvalue=np.float64(1.0), statistic_location=np.float64(-1553.0693764374998), statistic_sign=np.int8(-1))"
      ]
     },
     "execution_count": 26,
     "metadata": {},
     "output_type": "execute_result"
    }
   ],
   "source": [
    "sp.stats.ks_2samp(y_test, y_preds)"
   ]
  },
  {
   "cell_type": "markdown",
   "id": "1735c14f",
   "metadata": {},
   "source": [
    "To report an independent samples Kolmogorov-Smirnov (K-S) test in APA style, state the test's purpose, then provide the test statistic (D), followed by the sample sizes for each group in parentheses, and the exact p-value. For example: \"There was a significant difference in scores between the two groups, D(n = 25, n = 28) = .25, p = .03\". If the result is not significant, state p > .05. "
   ]
  },
  {
   "cell_type": "code",
   "execution_count": null,
   "id": "e7550ad8",
   "metadata": {},
   "outputs": [],
   "source": []
  }
 ],
 "metadata": {
  "kernelspec": {
   "display_name": "ieee-cyberc-2025",
   "language": "python",
   "name": "python3"
  },
  "language_info": {
   "codemirror_mode": {
    "name": "ipython",
    "version": 3
   },
   "file_extension": ".py",
   "mimetype": "text/x-python",
   "name": "python",
   "nbconvert_exporter": "python",
   "pygments_lexer": "ipython3",
   "version": "3.11.13"
  }
 },
 "nbformat": 4,
 "nbformat_minor": 5
}
